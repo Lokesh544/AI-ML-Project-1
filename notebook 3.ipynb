{
 "cells": [
  {
   "cell_type": "markdown",
   "metadata": {
    "dc": {
     "key": "3"
    },
    "deletable": false,
    "editable": false,
    "run_control": {
     "frozen": true
    },
    "tags": [
     "context"
    ]
   },
   "source": [
    "## 1. Preparing our dataset"
   ]
  },
  {
   "cell_type": "code",
   "execution_count": 2,
   "metadata": {
    "dc": {
     "key": "3"
    },
    "tags": [
     "sample_code"
    ],
    "trusted": true
   },
   "outputs": [
    {
     "name": "stdout",
     "output_type": "stream",
     "text": [
      "<class 'pandas.core.frame.DataFrame'>\n",
      "RangeIndex: 4802 entries, 0 to 4801\n",
      "Data columns (total 10 columns):\n",
      " #   Column            Non-Null Count  Dtype  \n",
      "---  ------            --------------  -----  \n",
      " 0   track_id          4802 non-null   int64  \n",
      " 1   acousticness      4802 non-null   float64\n",
      " 2   danceability      4802 non-null   float64\n",
      " 3   energy            4802 non-null   float64\n",
      " 4   instrumentalness  4802 non-null   float64\n",
      " 5   liveness          4802 non-null   float64\n",
      " 6   speechiness       4802 non-null   float64\n",
      " 7   tempo             4802 non-null   float64\n",
      " 8   valence           4802 non-null   float64\n",
      " 9   genre_top         4802 non-null   object \n",
      "dtypes: float64(8), int64(1), object(1)\n",
      "memory usage: 375.3+ KB\n"
     ]
    }
   ],
   "source": [
    "import pandas as pd\n",
    "\n",
    "tracks = pd.read_csv(\"datasets/fma-rock-vs-hiphop.csv\")\n",
    "\n",
    "echonest_metrics = pd.read_json(\"datasets/echonest-metrics.json\", precise_float=True)\n",
    "\n",
    "echo_tracks = pd.merge(echonest_metrics, tracks[[\"track_id\", \"genre_top\"]], on=\"track_id\")\n",
    "\n",
    "echo_tracks.info()"
   ]
  },
  {
   "cell_type": "markdown",
   "metadata": {
    "dc": {
     "key": "10"
    },
    "deletable": false,
    "editable": false,
    "run_control": {
     "frozen": true
    },
    "tags": [
     "context"
    ]
   },
   "source": [
    "## 2. Pairwise relationships between continuous variables"
   ]
  },
  {
   "cell_type": "code",
   "execution_count": 4,
   "metadata": {
    "dc": {
     "key": "10"
    },
    "tags": [
     "sample_code"
    ],
    "trusted": true
   },
   "outputs": [
    {
     "name": "stdout",
     "output_type": "stream",
     "text": [
      "Non-numeric columns: Index(['genre_top'], dtype='object')\n"
     ]
    },
    {
     "data": {
      "text/html": [
       "<style type=\"text/css\">\n",
       "#T_445bc_row0_col0, #T_445bc_row1_col1, #T_445bc_row2_col2, #T_445bc_row3_col3, #T_445bc_row4_col4, #T_445bc_row5_col5, #T_445bc_row6_col6, #T_445bc_row7_col7, #T_445bc_row8_col8 {\n",
       "  background-color: #023858;\n",
       "  color: #f1f1f1;\n",
       "}\n",
       "#T_445bc_row0_col1, #T_445bc_row1_col0, #T_445bc_row1_col3, #T_445bc_row2_col5, #T_445bc_row2_col7, #T_445bc_row4_col2, #T_445bc_row4_col6, #T_445bc_row4_col8, #T_445bc_row6_col4 {\n",
       "  background-color: #fff7fb;\n",
       "  color: #000000;\n",
       "}\n",
       "#T_445bc_row0_col2 {\n",
       "  background-color: #d2d2e7;\n",
       "  color: #000000;\n",
       "}\n",
       "#T_445bc_row0_col3 {\n",
       "  background-color: #b5c4df;\n",
       "  color: #000000;\n",
       "}\n",
       "#T_445bc_row0_col4 {\n",
       "  background-color: #f5eef6;\n",
       "  color: #000000;\n",
       "}\n",
       "#T_445bc_row0_col5 {\n",
       "  background-color: #e9e5f1;\n",
       "  color: #000000;\n",
       "}\n",
       "#T_445bc_row0_col6, #T_445bc_row8_col3 {\n",
       "  background-color: #d1d2e6;\n",
       "  color: #000000;\n",
       "}\n",
       "#T_445bc_row0_col7, #T_445bc_row1_col7 {\n",
       "  background-color: #e1dfed;\n",
       "  color: #000000;\n",
       "}\n",
       "#T_445bc_row0_col8, #T_445bc_row3_col6 {\n",
       "  background-color: #dedcec;\n",
       "  color: #000000;\n",
       "}\n",
       "#T_445bc_row1_col2 {\n",
       "  background-color: #e0dded;\n",
       "  color: #000000;\n",
       "}\n",
       "#T_445bc_row1_col4, #T_445bc_row4_col1 {\n",
       "  background-color: #97b7d7;\n",
       "  color: #000000;\n",
       "}\n",
       "#T_445bc_row1_col5, #T_445bc_row2_col4 {\n",
       "  background-color: #f3edf5;\n",
       "  color: #000000;\n",
       "}\n",
       "#T_445bc_row1_col6, #T_445bc_row6_col1 {\n",
       "  background-color: #b8c6e0;\n",
       "  color: #000000;\n",
       "}\n",
       "#T_445bc_row1_col8 {\n",
       "  background-color: #e2dfee;\n",
       "  color: #000000;\n",
       "}\n",
       "#T_445bc_row2_col0, #T_445bc_row5_col0, #T_445bc_row5_col3 {\n",
       "  background-color: #bdc8e1;\n",
       "  color: #000000;\n",
       "}\n",
       "#T_445bc_row2_col1, #T_445bc_row6_col0, #T_445bc_row7_col0, #T_445bc_row7_col1 {\n",
       "  background-color: #d0d1e6;\n",
       "  color: #000000;\n",
       "}\n",
       "#T_445bc_row2_col3 {\n",
       "  background-color: #fbf3f9;\n",
       "  color: #000000;\n",
       "}\n",
       "#T_445bc_row2_col6 {\n",
       "  background-color: #80aed2;\n",
       "  color: #f1f1f1;\n",
       "}\n",
       "#T_445bc_row2_col8 {\n",
       "  background-color: #529bc7;\n",
       "  color: #f1f1f1;\n",
       "}\n",
       "#T_445bc_row3_col0, #T_445bc_row7_col3 {\n",
       "  background-color: #a7bddb;\n",
       "  color: #000000;\n",
       "}\n",
       "#T_445bc_row3_col1 {\n",
       "  background-color: #f5eff6;\n",
       "  color: #000000;\n",
       "}\n",
       "#T_445bc_row3_col2, #T_445bc_row7_col2 {\n",
       "  background-color: #fef6fa;\n",
       "  color: #000000;\n",
       "}\n",
       "#T_445bc_row3_col4 {\n",
       "  background-color: #c4cbe3;\n",
       "  color: #000000;\n",
       "}\n",
       "#T_445bc_row3_col5, #T_445bc_row5_col7 {\n",
       "  background-color: #dcdaeb;\n",
       "  color: #000000;\n",
       "}\n",
       "#T_445bc_row3_col7 {\n",
       "  background-color: #adc1dd;\n",
       "  color: #000000;\n",
       "}\n",
       "#T_445bc_row3_col8, #T_445bc_row4_col7 {\n",
       "  background-color: #d9d8ea;\n",
       "  color: #000000;\n",
       "}\n",
       "#T_445bc_row4_col0 {\n",
       "  background-color: #f4eef6;\n",
       "  color: #000000;\n",
       "}\n",
       "#T_445bc_row4_col3 {\n",
       "  background-color: #d2d3e7;\n",
       "  color: #000000;\n",
       "}\n",
       "#T_445bc_row4_col5 {\n",
       "  background-color: #fdf5fa;\n",
       "  color: #000000;\n",
       "}\n",
       "#T_445bc_row5_col1 {\n",
       "  background-color: #ced0e6;\n",
       "  color: #000000;\n",
       "}\n",
       "#T_445bc_row5_col2 {\n",
       "  background-color: #ede8f3;\n",
       "  color: #000000;\n",
       "}\n",
       "#T_445bc_row5_col4, #T_445bc_row6_col7 {\n",
       "  background-color: #dbdaeb;\n",
       "  color: #000000;\n",
       "}\n",
       "#T_445bc_row5_col6 {\n",
       "  background-color: #c0c9e2;\n",
       "  color: #000000;\n",
       "}\n",
       "#T_445bc_row5_col8 {\n",
       "  background-color: #e8e4f0;\n",
       "  color: #000000;\n",
       "}\n",
       "#T_445bc_row6_col2 {\n",
       "  background-color: #93b5d6;\n",
       "  color: #000000;\n",
       "}\n",
       "#T_445bc_row6_col3, #T_445bc_row6_col5 {\n",
       "  background-color: #eae6f1;\n",
       "  color: #000000;\n",
       "}\n",
       "#T_445bc_row6_col8 {\n",
       "  background-color: #bfc9e1;\n",
       "  color: #000000;\n",
       "}\n",
       "#T_445bc_row7_col4 {\n",
       "  background-color: #c5cce3;\n",
       "  color: #000000;\n",
       "}\n",
       "#T_445bc_row7_col5 {\n",
       "  background-color: #f0eaf4;\n",
       "  color: #000000;\n",
       "}\n",
       "#T_445bc_row7_col6 {\n",
       "  background-color: #c8cde4;\n",
       "  color: #000000;\n",
       "}\n",
       "#T_445bc_row7_col8 {\n",
       "  background-color: #d6d6e9;\n",
       "  color: #000000;\n",
       "}\n",
       "#T_445bc_row8_col0 {\n",
       "  background-color: #c6cce3;\n",
       "  color: #000000;\n",
       "}\n",
       "#T_445bc_row8_col1 {\n",
       "  background-color: #cdd0e5;\n",
       "  color: #000000;\n",
       "}\n",
       "#T_445bc_row8_col2 {\n",
       "  background-color: #4c99c5;\n",
       "  color: #f1f1f1;\n",
       "}\n",
       "#T_445bc_row8_col4 {\n",
       "  background-color: #efe9f3;\n",
       "  color: #000000;\n",
       "}\n",
       "#T_445bc_row8_col5 {\n",
       "  background-color: #f7f0f7;\n",
       "  color: #000000;\n",
       "}\n",
       "#T_445bc_row8_col6 {\n",
       "  background-color: #a5bddb;\n",
       "  color: #000000;\n",
       "}\n",
       "#T_445bc_row8_col7 {\n",
       "  background-color: #d3d4e7;\n",
       "  color: #000000;\n",
       "}\n",
       "</style>\n",
       "<table id=\"T_445bc\">\n",
       "  <thead>\n",
       "    <tr>\n",
       "      <th class=\"blank level0\" >&nbsp;</th>\n",
       "      <th id=\"T_445bc_level0_col0\" class=\"col_heading level0 col0\" >track_id</th>\n",
       "      <th id=\"T_445bc_level0_col1\" class=\"col_heading level0 col1\" >acousticness</th>\n",
       "      <th id=\"T_445bc_level0_col2\" class=\"col_heading level0 col2\" >danceability</th>\n",
       "      <th id=\"T_445bc_level0_col3\" class=\"col_heading level0 col3\" >energy</th>\n",
       "      <th id=\"T_445bc_level0_col4\" class=\"col_heading level0 col4\" >instrumentalness</th>\n",
       "      <th id=\"T_445bc_level0_col5\" class=\"col_heading level0 col5\" >liveness</th>\n",
       "      <th id=\"T_445bc_level0_col6\" class=\"col_heading level0 col6\" >speechiness</th>\n",
       "      <th id=\"T_445bc_level0_col7\" class=\"col_heading level0 col7\" >tempo</th>\n",
       "      <th id=\"T_445bc_level0_col8\" class=\"col_heading level0 col8\" >valence</th>\n",
       "    </tr>\n",
       "  </thead>\n",
       "  <tbody>\n",
       "    <tr>\n",
       "      <th id=\"T_445bc_level0_row0\" class=\"row_heading level0 row0\" >track_id</th>\n",
       "      <td id=\"T_445bc_row0_col0\" class=\"data row0 col0\" >1.000000</td>\n",
       "      <td id=\"T_445bc_row0_col1\" class=\"data row0 col1\" >-0.372282</td>\n",
       "      <td id=\"T_445bc_row0_col2\" class=\"data row0 col2\" >0.049454</td>\n",
       "      <td id=\"T_445bc_row0_col3\" class=\"data row0 col3\" >0.140703</td>\n",
       "      <td id=\"T_445bc_row0_col4\" class=\"data row0 col4\" >-0.275623</td>\n",
       "      <td id=\"T_445bc_row0_col5\" class=\"data row0 col5\" >0.048231</td>\n",
       "      <td id=\"T_445bc_row0_col6\" class=\"data row0 col6\" >-0.026995</td>\n",
       "      <td id=\"T_445bc_row0_col7\" class=\"data row0 col7\" >-0.025392</td>\n",
       "      <td id=\"T_445bc_row0_col8\" class=\"data row0 col8\" >0.010070</td>\n",
       "    </tr>\n",
       "    <tr>\n",
       "      <th id=\"T_445bc_level0_row1\" class=\"row_heading level0 row1\" >acousticness</th>\n",
       "      <td id=\"T_445bc_row1_col0\" class=\"data row1 col0\" >-0.372282</td>\n",
       "      <td id=\"T_445bc_row1_col1\" class=\"data row1 col1\" >1.000000</td>\n",
       "      <td id=\"T_445bc_row1_col2\" class=\"data row1 col2\" >-0.028954</td>\n",
       "      <td id=\"T_445bc_row1_col3\" class=\"data row1 col3\" >-0.281619</td>\n",
       "      <td id=\"T_445bc_row1_col4\" class=\"data row1 col4\" >0.194780</td>\n",
       "      <td id=\"T_445bc_row1_col5\" class=\"data row1 col5\" >-0.019991</td>\n",
       "      <td id=\"T_445bc_row1_col6\" class=\"data row1 col6\" >0.072204</td>\n",
       "      <td id=\"T_445bc_row1_col7\" class=\"data row1 col7\" >-0.026310</td>\n",
       "      <td id=\"T_445bc_row1_col8\" class=\"data row1 col8\" >-0.013841</td>\n",
       "    </tr>\n",
       "    <tr>\n",
       "      <th id=\"T_445bc_level0_row2\" class=\"row_heading level0 row2\" >danceability</th>\n",
       "      <td id=\"T_445bc_row2_col0\" class=\"data row2 col0\" >0.049454</td>\n",
       "      <td id=\"T_445bc_row2_col1\" class=\"data row2 col1\" >-0.028954</td>\n",
       "      <td id=\"T_445bc_row2_col2\" class=\"data row2 col2\" >1.000000</td>\n",
       "      <td id=\"T_445bc_row2_col3\" class=\"data row2 col3\" >-0.242032</td>\n",
       "      <td id=\"T_445bc_row2_col4\" class=\"data row2 col4\" >-0.255217</td>\n",
       "      <td id=\"T_445bc_row2_col5\" class=\"data row2 col5\" >-0.106584</td>\n",
       "      <td id=\"T_445bc_row2_col6\" class=\"data row2 col6\" >0.276206</td>\n",
       "      <td id=\"T_445bc_row2_col7\" class=\"data row2 col7\" >-0.242089</td>\n",
       "      <td id=\"T_445bc_row2_col8\" class=\"data row2 col8\" >0.473165</td>\n",
       "    </tr>\n",
       "    <tr>\n",
       "      <th id=\"T_445bc_level0_row3\" class=\"row_heading level0 row3\" >energy</th>\n",
       "      <td id=\"T_445bc_row3_col0\" class=\"data row3 col0\" >0.140703</td>\n",
       "      <td id=\"T_445bc_row3_col1\" class=\"data row3 col1\" >-0.281619</td>\n",
       "      <td id=\"T_445bc_row3_col2\" class=\"data row3 col2\" >-0.242032</td>\n",
       "      <td id=\"T_445bc_row3_col3\" class=\"data row3 col3\" >1.000000</td>\n",
       "      <td id=\"T_445bc_row3_col4\" class=\"data row3 col4\" >0.028238</td>\n",
       "      <td id=\"T_445bc_row3_col5\" class=\"data row3 col5\" >0.113331</td>\n",
       "      <td id=\"T_445bc_row3_col6\" class=\"data row3 col6\" >-0.109983</td>\n",
       "      <td id=\"T_445bc_row3_col7\" class=\"data row3 col7\" >0.195227</td>\n",
       "      <td id=\"T_445bc_row3_col8\" class=\"data row3 col8\" >0.038603</td>\n",
       "    </tr>\n",
       "    <tr>\n",
       "      <th id=\"T_445bc_level0_row4\" class=\"row_heading level0 row4\" >instrumentalness</th>\n",
       "      <td id=\"T_445bc_row4_col0\" class=\"data row4 col0\" >-0.275623</td>\n",
       "      <td id=\"T_445bc_row4_col1\" class=\"data row4 col1\" >0.194780</td>\n",
       "      <td id=\"T_445bc_row4_col2\" class=\"data row4 col2\" >-0.255217</td>\n",
       "      <td id=\"T_445bc_row4_col3\" class=\"data row4 col3\" >0.028238</td>\n",
       "      <td id=\"T_445bc_row4_col4\" class=\"data row4 col4\" >1.000000</td>\n",
       "      <td id=\"T_445bc_row4_col5\" class=\"data row4 col5\" >-0.091022</td>\n",
       "      <td id=\"T_445bc_row4_col6\" class=\"data row4 col6\" >-0.366762</td>\n",
       "      <td id=\"T_445bc_row4_col7\" class=\"data row4 col7\" >0.022215</td>\n",
       "      <td id=\"T_445bc_row4_col8\" class=\"data row4 col8\" >-0.219967</td>\n",
       "    </tr>\n",
       "    <tr>\n",
       "      <th id=\"T_445bc_level0_row5\" class=\"row_heading level0 row5\" >liveness</th>\n",
       "      <td id=\"T_445bc_row5_col0\" class=\"data row5 col0\" >0.048231</td>\n",
       "      <td id=\"T_445bc_row5_col1\" class=\"data row5 col1\" >-0.019991</td>\n",
       "      <td id=\"T_445bc_row5_col2\" class=\"data row5 col2\" >-0.106584</td>\n",
       "      <td id=\"T_445bc_row5_col3\" class=\"data row5 col3\" >0.113331</td>\n",
       "      <td id=\"T_445bc_row5_col4\" class=\"data row5 col4\" >-0.091022</td>\n",
       "      <td id=\"T_445bc_row5_col5\" class=\"data row5 col5\" >1.000000</td>\n",
       "      <td id=\"T_445bc_row5_col6\" class=\"data row5 col6\" >0.041173</td>\n",
       "      <td id=\"T_445bc_row5_col7\" class=\"data row5 col7\" >0.002732</td>\n",
       "      <td id=\"T_445bc_row5_col8\" class=\"data row5 col8\" >-0.045093</td>\n",
       "    </tr>\n",
       "    <tr>\n",
       "      <th id=\"T_445bc_level0_row6\" class=\"row_heading level0 row6\" >speechiness</th>\n",
       "      <td id=\"T_445bc_row6_col0\" class=\"data row6 col0\" >-0.026995</td>\n",
       "      <td id=\"T_445bc_row6_col1\" class=\"data row6 col1\" >0.072204</td>\n",
       "      <td id=\"T_445bc_row6_col2\" class=\"data row6 col2\" >0.276206</td>\n",
       "      <td id=\"T_445bc_row6_col3\" class=\"data row6 col3\" >-0.109983</td>\n",
       "      <td id=\"T_445bc_row6_col4\" class=\"data row6 col4\" >-0.366762</td>\n",
       "      <td id=\"T_445bc_row6_col5\" class=\"data row6 col5\" >0.041173</td>\n",
       "      <td id=\"T_445bc_row6_col6\" class=\"data row6 col6\" >1.000000</td>\n",
       "      <td id=\"T_445bc_row6_col7\" class=\"data row6 col7\" >0.008241</td>\n",
       "      <td id=\"T_445bc_row6_col8\" class=\"data row6 col8\" >0.149894</td>\n",
       "    </tr>\n",
       "    <tr>\n",
       "      <th id=\"T_445bc_level0_row7\" class=\"row_heading level0 row7\" >tempo</th>\n",
       "      <td id=\"T_445bc_row7_col0\" class=\"data row7 col0\" >-0.025392</td>\n",
       "      <td id=\"T_445bc_row7_col1\" class=\"data row7 col1\" >-0.026310</td>\n",
       "      <td id=\"T_445bc_row7_col2\" class=\"data row7 col2\" >-0.242089</td>\n",
       "      <td id=\"T_445bc_row7_col3\" class=\"data row7 col3\" >0.195227</td>\n",
       "      <td id=\"T_445bc_row7_col4\" class=\"data row7 col4\" >0.022215</td>\n",
       "      <td id=\"T_445bc_row7_col5\" class=\"data row7 col5\" >0.002732</td>\n",
       "      <td id=\"T_445bc_row7_col6\" class=\"data row7 col6\" >0.008241</td>\n",
       "      <td id=\"T_445bc_row7_col7\" class=\"data row7 col7\" >1.000000</td>\n",
       "      <td id=\"T_445bc_row7_col8\" class=\"data row7 col8\" >0.052221</td>\n",
       "    </tr>\n",
       "    <tr>\n",
       "      <th id=\"T_445bc_level0_row8\" class=\"row_heading level0 row8\" >valence</th>\n",
       "      <td id=\"T_445bc_row8_col0\" class=\"data row8 col0\" >0.010070</td>\n",
       "      <td id=\"T_445bc_row8_col1\" class=\"data row8 col1\" >-0.013841</td>\n",
       "      <td id=\"T_445bc_row8_col2\" class=\"data row8 col2\" >0.473165</td>\n",
       "      <td id=\"T_445bc_row8_col3\" class=\"data row8 col3\" >0.038603</td>\n",
       "      <td id=\"T_445bc_row8_col4\" class=\"data row8 col4\" >-0.219967</td>\n",
       "      <td id=\"T_445bc_row8_col5\" class=\"data row8 col5\" >-0.045093</td>\n",
       "      <td id=\"T_445bc_row8_col6\" class=\"data row8 col6\" >0.149894</td>\n",
       "      <td id=\"T_445bc_row8_col7\" class=\"data row8 col7\" >0.052221</td>\n",
       "      <td id=\"T_445bc_row8_col8\" class=\"data row8 col8\" >1.000000</td>\n",
       "    </tr>\n",
       "  </tbody>\n",
       "</table>\n"
      ],
      "text/plain": [
       "<pandas.io.formats.style.Styler at 0x12229509590>"
      ]
     },
     "execution_count": 4,
     "metadata": {},
     "output_type": "execute_result"
    }
   ],
   "source": [
    "import pandas as pd\n",
    "import numpy as np\n",
    "\n",
    "non_numeric_cols = echo_tracks.select_dtypes(include=['object']).columns\n",
    "print(f\"Non-numeric columns: {non_numeric_cols}\")\n",
    "\n",
    "numeric_df = echo_tracks.select_dtypes(include=[np.number])\n",
    "\n",
    "corr_metrics = numeric_df.corr()\n",
    "corr_metrics.style.background_gradient()"
   ]
  },
  {
   "cell_type": "markdown",
   "metadata": {
    "dc": {
     "key": "17"
    },
    "deletable": false,
    "editable": false,
    "run_control": {
     "frozen": true
    },
    "tags": [
     "context"
    ]
   },
   "source": [
    "## 3. Normalizing the feature data"
   ]
  },
  {
   "cell_type": "code",
   "execution_count": 5,
   "metadata": {
    "collapsed": true,
    "dc": {
     "key": "17"
    },
    "tags": [
     "sample_code"
    ],
    "trusted": true
   },
   "outputs": [],
   "source": [
    "features = echo_tracks.drop([\"genre_top\",\"track_id\"], axis=1)\n",
    "\n",
    "labels = echo_tracks[\"genre_top\"]\n",
    "\n",
    "from sklearn.preprocessing import StandardScaler\n",
    "\n",
    "scaler = StandardScaler()\n",
    "scaled_train_features = scaler.fit_transform(features)"
   ]
  },
  {
   "cell_type": "markdown",
   "metadata": {
    "dc": {
     "key": "24"
    },
    "deletable": false,
    "editable": false,
    "run_control": {
     "frozen": true
    },
    "tags": [
     "context"
    ]
   },
   "source": [
    "## 4. Principal Component Analysis on our scaled data"
   ]
  },
  {
   "cell_type": "code",
   "execution_count": 6,
   "metadata": {
    "dc": {
     "key": "24"
    },
    "tags": [
     "sample_code"
    ],
    "trusted": true
   },
   "outputs": [
    {
     "name": "stdout",
     "output_type": "stream",
     "text": [
      "[0.24297674 0.18044316 0.13650309 0.12994089 0.11056248 0.08302245\n",
      " 0.06923783 0.04731336]\n",
      "8\n"
     ]
    },
    {
     "data": {
      "text/plain": [
       "Text(0.5, 0, 'Principal Component #')"
      ]
     },
     "execution_count": 6,
     "metadata": {},
     "output_type": "execute_result"
    },
    {
     "data": {
      "image/png": "[encoded data removed]",
      "text/plain": [
       "<Figure size 640x480 with 1 Axes>"
      ]
     },
     "metadata": {},
     "output_type": "display_data"
    }
   ],
   "source": [
    "# This is just to make plots appear in the notebook\n",
    "%matplotlib inline\n",
    "\n",
    "import matplotlib.pyplot as plt\n",
    "from sklearn.decomposition import PCA\n",
    "\n",
    "pca = PCA()\n",
    "pca.fit(scaled_train_features)\n",
    "exp_variance = pca.explained_variance_ratio_\n",
    "\n",
    "print(pca.explained_variance_ratio_)\n",
    "print(pca.n_components_)\n",
    "\n",
    "fig, ax = plt.subplots()\n",
    "ax.bar(range(8), exp_variance)\n",
    "ax.set_xlabel('Principal Component #')"
   ]
  },
  {
   "cell_type": "markdown",
   "metadata": {
    "dc": {
     "key": "31"
    },
    "deletable": false,
    "editable": false,
    "run_control": {
     "frozen": true
    },
    "tags": [
     "context"
    ]
   },
   "source": [
    "## 5. Further visualization of PCA"
   ]
  },
  {
   "cell_type": "code",
   "execution_count": 7,
   "metadata": {
    "dc": {
     "key": "31"
    },
    "tags": [
     "sample_code"
    ],
    "trusted": true
   },
   "outputs": [
    {
     "data": {
      "image/png": "[encoded data removed]",
      "text/plain": [
       "<Figure size 640x480 with 1 Axes>"
      ]
     },
     "metadata": {},
     "output_type": "display_data"
    }
   ],
   "source": [
    "import numpy as np\n",
    "\n",
    "cum_exp_variance = np.cumsum(exp_variance)\n",
    "\n",
    "fig, ax = plt.subplots()\n",
    "ax.plot(range(8), cum_exp_variance)\n",
    "ax.axhline(y=0.9, linestyle='--')\n",
    "n_components = 6\n",
    "\n",
    "pca = PCA(n_components, random_state=10)\n",
    "pca.fit(scaled_train_features)\n",
    "pca_projection = pca.transform(scaled_train_features)"
   ]
  },
  {
   "cell_type": "markdown",
   "metadata": {
    "dc": {
     "key": "38"
    },
    "deletable": false,
    "editable": false,
    "run_control": {
     "frozen": true
    },
    "tags": [
     "context"
    ]
   },
   "source": [
    "## 6. Train a decision tree to classify genre"
   ]
  },
  {
   "cell_type": "code",
   "execution_count": 8,
   "metadata": {
    "collapsed": true,
    "dc": {
     "key": "38"
    },
    "tags": [
     "sample_code"
    ],
    "trusted": true
   },
   "outputs": [],
   "source": [
    "# Import train_test_split function and Decision tree classifier\n",
    "from sklearn.model_selection import train_test_split\n",
    "from sklearn.tree import DecisionTreeClassifier\n",
    "\n",
    "# Split our data\n",
    "train_features, test_features, train_labels, test_labels = train_test_split(pca_projection, labels, random_state=10)\n",
    "\n",
    "# Train our decision tree\n",
    "tree = DecisionTreeClassifier(random_state=10)\n",
    "tree.fit(train_features, train_labels)\n",
    "\n",
    "# Predict the labels for the test data\n",
    "pred_labels_tree = tree.predict(test_features)"
   ]
  },
  {
   "cell_type": "markdown",
   "metadata": {
    "dc": {
     "key": "45"
    },
    "deletable": false,
    "editable": false,
    "run_control": {
     "frozen": true
    },
    "tags": [
     "context"
    ]
   },
   "source": [
    "## 7. Compare our decision tree to a logistic regression\n",
    "<p>Although our tree's performance is decent, it's a bad idea to immediately assume that it's therefore the perfect tool for this job -- there's always the possibility of other models that will perform even better! It's always a worthwhile idea to at least test a few other algorithms and find the one that's best for our data.</p>\n",
    "<p>Sometimes simplest is best, and so we will start by applying <strong>logistic regression</strong>. Logistic regression makes use of what's called the logistic function to calculate the odds that a given data point belongs to a given class. Once we have both models, we can compare them on a few performance metrics, such as false positive and false negative rate (or how many points are inaccurately classified). </p>"
   ]
  },
  {
   "cell_type": "code",
   "execution_count": 9,
   "metadata": {
    "dc": {
     "key": "45"
    },
    "tags": [
     "sample_code"
    ],
    "trusted": true
   },
   "outputs": [
    {
     "name": "stdout",
     "output_type": "stream",
     "text": [
      "Decision Tree: \n",
      "               precision    recall  f1-score   support\n",
      "\n",
      "     Hip-Hop       0.60      0.60      0.60       235\n",
      "        Rock       0.90      0.90      0.90       966\n",
      "\n",
      "    accuracy                           0.84      1201\n",
      "   macro avg       0.75      0.75      0.75      1201\n",
      "weighted avg       0.84      0.84      0.84      1201\n",
      "\n",
      "Logistic Regression: \n",
      "               precision    recall  f1-score   support\n",
      "\n",
      "     Hip-Hop       0.77      0.54      0.64       235\n",
      "        Rock       0.90      0.96      0.93       966\n",
      "\n",
      "    accuracy                           0.88      1201\n",
      "   macro avg       0.83      0.75      0.78      1201\n",
      "weighted avg       0.87      0.88      0.87      1201\n",
      "\n"
     ]
    }
   ],
   "source": [
    "from sklearn.linear_model import LogisticRegression\n",
    "\n",
    "logreg = LogisticRegression(random_state=10)\n",
    "logreg.fit(train_features, train_labels)\n",
    "pred_labels_logit = logreg.predict(test_features)\n",
    "\n",
    "from sklearn.metrics import classification_report\n",
    "class_rep_tree = classification_report(test_labels, pred_labels_tree)\n",
    "class_rep_log = classification_report(test_labels, pred_labels_logit)\n",
    "\n",
    "print(\"Decision Tree: \\n\", class_rep_tree)\n",
    "print(\"Logistic Regression: \\n\", class_rep_log)"
   ]
  },
  {
   "cell_type": "markdown",
   "metadata": {
    "dc": {
     "key": "52"
    },
    "deletable": false,
    "editable": false,
    "run_control": {
     "frozen": true
    },
    "tags": [
     "context"
    ]
   },
   "source": [
    "## 8. Balance our data for greater performance"
   ]
  },
  {
   "cell_type": "code",
   "execution_count": 10,
   "metadata": {
    "collapsed": true,
    "dc": {
     "key": "52"
    },
    "tags": [
     "sample_code"
    ],
    "trusted": true
   },
   "outputs": [],
   "source": [
    "hop_only = echo_tracks.loc[echo_tracks[\"genre_top\"] == \"Hip-Hop\"]\n",
    "\n",
    "rock_only = echo_tracks.loc[echo_tracks[\"genre_top\"] == \"Rock\"].sample(len(hop_only), random_state=10)\n",
    "\n",
    "rock_hop_bal = pd.concat([rock_only, hop_only])\n",
    "\n",
    "features = rock_hop_bal.drop(['genre_top', 'track_id'], axis=1) \n",
    "labels = rock_hop_bal['genre_top']\n",
    "pca_projection = pca.fit_transform(scaler.fit_transform(features))\n",
    "\n",
    "train_features, test_features, train_labels, test_labels = train_test_split(pca_projection, labels, random_state=10)"
   ]
  },
  {
   "cell_type": "markdown",
   "metadata": {
    "dc": {
     "key": "59"
    },
    "deletable": false,
    "editable": false,
    "run_control": {
     "frozen": true
    },
    "tags": [
     "context"
    ]
   },
   "source": [
    "## 9. Does balancing our dataset improve model bias?"
   ]
  },
  {
   "cell_type": "code",
   "execution_count": 11,
   "metadata": {
    "dc": {
     "key": "59"
    },
    "tags": [
     "sample_code"
    ],
    "trusted": true
   },
   "outputs": [
    {
     "name": "stdout",
     "output_type": "stream",
     "text": [
      "Decision Tree: \n",
      "               precision    recall  f1-score   support\n",
      "\n",
      "     Hip-Hop       0.75      0.75      0.75       230\n",
      "        Rock       0.74      0.74      0.74       225\n",
      "\n",
      "    accuracy                           0.75       455\n",
      "   macro avg       0.75      0.75      0.75       455\n",
      "weighted avg       0.75      0.75      0.75       455\n",
      "\n",
      "Logistic Regression: \n",
      "               precision    recall  f1-score   support\n",
      "\n",
      "     Hip-Hop       0.84      0.80      0.82       230\n",
      "        Rock       0.80      0.85      0.83       225\n",
      "\n",
      "    accuracy                           0.82       455\n",
      "   macro avg       0.82      0.82      0.82       455\n",
      "weighted avg       0.82      0.82      0.82       455\n",
      "\n"
     ]
    }
   ],
   "source": [
    "tree = DecisionTreeClassifier(random_state=10)\n",
    "tree.fit(train_features, train_labels)\n",
    "pred_labels_tree = tree.predict(test_features)\n",
    "\n",
    "logreg = LogisticRegression(random_state=10)\n",
    "logreg.fit(train_features, train_labels)\n",
    "pred_labels_logit = logreg.predict(test_features)\n",
    "\n",
    "print(\"Decision Tree: \\n\", classification_report(test_labels, pred_labels_tree))\n",
    "print(\"Logistic Regression: \\n\", classification_report(test_labels, pred_labels_logit))"
   ]
  },
  {
   "cell_type": "markdown",
   "metadata": {
    "dc": {
     "key": "66"
    },
    "deletable": false,
    "editable": false,
    "run_control": {
     "frozen": true
    },
    "tags": [
     "context"
    ]
   },
   "source": [
    "## 10. Using cross-validation to evaluate our models"
   ]
  },
  {
   "cell_type": "code",
   "execution_count": 12,
   "metadata": {
    "dc": {
     "key": "66"
    },
    "tags": [
     "sample_code"
    ],
    "trusted": true
   },
   "outputs": [
    {
     "name": "stdout",
     "output_type": "stream",
     "text": [
      "Decision Tree: 0.7791208791208791 Logistic Regression: 0.823076923076923\n"
     ]
    }
   ],
   "source": [
    "import numpy as np\n",
    "from sklearn.tree import DecisionTreeClassifier\n",
    "from sklearn.linear_model import LogisticRegression\n",
    "from sklearn.model_selection import KFold, cross_val_score\n",
    "\n",
    "kf = KFold(n_splits=10, random_state=10, shuffle=True)\n",
    "\n",
    "tree = DecisionTreeClassifier(random_state=10)\n",
    "logreg = LogisticRegression(random_state=10, max_iter=1000)\n",
    "\n",
    "tree_score = cross_val_score(tree, pca_projection, labels, cv=kf)\n",
    "logit_score = cross_val_score(logreg, pca_projection, labels, cv=kf)\n",
    "\n",
    "print(\"Decision Tree:\", np.mean(tree_score), \"Logistic Regression:\", np.mean(logit_score))\n"
   ]
  },
  {
   "cell_type": "code",
   "execution_count": null,
   "metadata": {},
   "outputs": [],
   "source": []
  }
 ],
 "metadata": {
  "kernelspec": {
   "display_name": ".venv",
   "language": "python",
   "name": "python3"
  },
  "language_info": {
   "codemirror_mode": {
    "name": "ipython",
    "version": 3
   },
   "file_extension": ".py",
   "mimetype": "text/x-python",
   "name": "python",
   "nbconvert_exporter": "python",
   "pygments_lexer": "ipython3",
   "version": "3.11.9"
  }
 },
 "nbformat": 4,
 "nbformat_minor": 2
}
